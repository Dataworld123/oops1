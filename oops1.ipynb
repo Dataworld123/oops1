{
 "cells": [
  {
   "cell_type": "code",
   "execution_count": null,
   "id": "15c420c1-481a-4cc9-816b-6887ffb51500",
   "metadata": {},
   "outputs": [],
   "source": [
    "Q1, Create a vehicle class with an init method having instance variables as name_of_vehicle, max_speed\n",
    "and average_of_vehicle. "
   ]
  },
  {
   "cell_type": "code",
   "execution_count": null,
   "id": "1e671a10-b2fb-4e24-aeb5-7056fe8608b0",
   "metadata": {},
   "outputs": [],
   "source": [
    "Here's an example of a Vehicle class with an __init__() method that takes three instance variables: name_of_vehicle, max_speed, and average_of_vehicle:\n",
    "\n",
    "method=1\n",
    "class Vehicle:\n",
    "    def __init__(self, name_of_vehicle, max_speed, average_of_vehicle):\n",
    "        self.name_of_vehicle = name_of_vehicle\n",
    "        self.max_speed = max_speed\n",
    "        self.average_of_vehicle = average_of_vehicle\n",
    "In this example, the __init__() method takes three arguments: name_of_vehicle, max_speed, and average_of_vehicle. These arguments are used to create instance variables with the same names, which can be accessed and modified using dot notation (vehicle.name_of_vehicle, for example).\n",
    "\n",
    "method=2\n",
    "# Create a new Vehicle object\n",
    "vehicle = Vehicle(\"Car\", 200, 50)\n",
    "\n",
    "# Access the instance variables\n",
    "print(vehicle.name_of_vehicle)      # Output: \"Car\"\n",
    "print(vehicle.max_speed)            # Output: 200\n",
    "print(vehicle.average_of_vehicle)   # Output: 50"
   ]
  },
  {
   "cell_type": "code",
   "execution_count": null,
   "id": "33438f6d-c621-4b37-969c-f5b6c76c07f6",
   "metadata": {},
   "outputs": [],
   "source": [
    "Q2.  Create a child class car from the vehicle class created in Que 1, which will inherit the vehicle class.\n",
    "Create a method named seating_capacity which takes capacity as an argument and returns the name of\n",
    "the vehicle and its seating capacity."
   ]
  },
  {
   "cell_type": "code",
   "execution_count": null,
   "id": "1a0cbd77-a391-4ddd-948f-9d3e315781a6",
   "metadata": {},
   "outputs": [],
   "source": [
    "class Vehicle:\n",
    "    def __init__(self, name_of_vehicle, max_speed, average_of_vehicle):\n",
    "        self.name_of_vehicle = name_of_vehicle\n",
    "        self.max_speed = max_speed\n",
    "        self.average_of_vehicle = average_of_vehicle\n",
    "\n",
    "\n",
    "class Car(Vehicle):\n",
    "    def __init__(self, name_of_vehicle, max_speed, average_of_vehicle):\n",
    "        super().__init__(name_of_vehicle, max_speed, average_of_vehicle)\n",
    "\n",
    "    def seating_capacity(self, capacity):\n",
    "        return f\"{self.name_of_vehicle} has a seating capacity of {capacity} passengers.\"\n",
    "\n",
    "\n",
    "# Create a new Car object\n",
    "car = Car(\"Toyota Camry\", 180, 5)\n",
    "\n",
    "# Call the seating_capacity() method\n",
    "seating_capacity = car.seating_capacity(4)\n",
    "\n",
    "# Print the result\n",
    "print(seating_capacity)   # Output: \"Toyota Camry has a seating capacity of 4 passengers.\"\n",
    "\n",
    "This code creates a Vehicle class with an __init__() method that takes three instance variables, \n",
    "and a Car class that inherits from Vehicle and adds a seating_capacity() method.\n",
    "It then creates a new Car object, calls the seating_capacity() method with an argument of 4, and prints the result."
   ]
  },
  {
   "cell_type": "code",
   "execution_count": null,
   "id": "74883a1b-c6af-4fee-bd0d-59693380f24a",
   "metadata": {},
   "outputs": [],
   "source": [
    "Q3. What is multiple inheritance? Write a python code to demonstrate multiple inheritance"
   ]
  },
  {
   "cell_type": "code",
   "execution_count": null,
   "id": "3a10a840-429a-4eda-a989-7246f68bdd1b",
   "metadata": {},
   "outputs": [],
   "source": [
    "Multiple inheritance is a feature of object-oriented programming languages like Python, \n",
    "where a class can inherit from multiple parent classes.\n",
    "\n",
    "Here's an example Python code to demonstrate multiple inheritance:\n",
    "\n",
    "\n",
    "class Animal:\n",
    "    def __init__(self, name):\n",
    "        self.name = name\n",
    "\n",
    "    def speak(self):\n",
    "        raise NotImplementedError(\"Subclass must implement abstract method\")\n",
    "\n",
    "\n",
    "class Mammal(Animal):\n",
    "    def __init__(self, name):\n",
    "        super().__init__(name)\n",
    "\n",
    "    def speak(self):\n",
    "        return \"I am a mammal\"\n",
    "\n",
    "\n",
    "class Bird(Animal):\n",
    "    def __init__(self, name):\n",
    "        super().__init__(name)\n",
    "\n",
    "    def speak(self):\n",
    "        return \"I am a bird\"\n",
    "\n",
    "\n",
    "class Bat(Mammal, Bird):\n",
    "    def __init__(self, name):\n",
    "        super().__init__(name)\n",
    "\n",
    "\n",
    "# Create a new Bat object\n",
    "bat = Bat(\"Fruit bat\")\n",
    "\n",
    "# Call the speak() method\n",
    "print(bat.speak())   # Output: \"I am a mammal\"\n"
   ]
  },
  {
   "cell_type": "code",
   "execution_count": null,
   "id": "6fa3c33c-b45b-4b76-9457-db2404f03d69",
   "metadata": {},
   "outputs": [],
   "source": [
    "Q4. What are getter and setter in python? Create a class and create a getter and a setter method in this\n",
    "class."
   ]
  },
  {
   "cell_type": "code",
   "execution_count": null,
   "id": "cd312c3d-f71d-4711-9106-0c588f5c92d6",
   "metadata": {},
   "outputs": [],
   "source": [
    "In Python, getters and setters are methods that are used to retrieve and set the values of private instance\n",
    "variables of a class respectively.\n",
    "\n",
    "class Person:\n",
    "    def __init__(self, name):\n",
    "        self.__name = name   # private instance variable\n",
    "\n",
    "    def get_name(self):\n",
    "        return self.__name   # getter method\n",
    "\n",
    "    def set_name(self, name):\n",
    "        self.__name = name   # setter method\n",
    "\n",
    "\n",
    "# Create a new Person object\n",
    "person = Person(\"John\")\n",
    "\n",
    "# Get the value of the name instance variable using the getter method\n",
    "name = person.get_name()\n",
    "\n",
    "# Print the name\n",
    "print(name)   # Output: \"John\"\n",
    "\n",
    "# Set the value of the name instance variable using the setter method\n",
    "person.set_name(\"Mary\")\n",
    "\n",
    "# Get the value of the name instance variable using the getter method again\n",
    "name = person.get_name()\n",
    "\n",
    "# Print the new name\n",
    "print(name)   # Output: \"Mary\"\n"
   ]
  },
  {
   "cell_type": "code",
   "execution_count": null,
   "id": "5ce10cae-cd30-4bb1-9ed8-69ec596bd7e6",
   "metadata": {},
   "outputs": [],
   "source": [
    "Q5.What is method overriding in python? Write a python code to demonstrate method overriding"
   ]
  }
 ],
 "metadata": {
  "kernelspec": {
   "display_name": "Python 3 (ipykernel)",
   "language": "python",
   "name": "python3"
  },
  "language_info": {
   "codemirror_mode": {
    "name": "ipython",
    "version": 3
   },
   "file_extension": ".py",
   "mimetype": "text/x-python",
   "name": "python",
   "nbconvert_exporter": "python",
   "pygments_lexer": "ipython3",
   "version": "3.10.8"
  }
 },
 "nbformat": 4,
 "nbformat_minor": 5
}
